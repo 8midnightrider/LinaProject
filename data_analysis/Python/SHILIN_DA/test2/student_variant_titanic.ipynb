{
 "cells": [
  {
   "cell_type": "markdown",
   "id": "d2280771-a57a-4ec2-a534-97c8d55f9333",
   "metadata": {},
   "source": [
    "## Заполни!\n",
    "Фамилия :\n",
    "\n",
    "Имя:\n",
    "\n",
    "Номер группы:"
   ]
  },
  {
   "cell_type": "code",
   "execution_count": 1,
   "id": "15eaeafd-c640-4228-b3bd-40a4280346b6",
   "metadata": {},
   "outputs": [],
   "source": [
    "import numpy as np \n",
    "import pandas as pd \n",
    "\n",
    "import matplotlib.pyplot as plt\n",
    "import seaborn as sns"
   ]
  },
  {
   "cell_type": "markdown",
   "id": "c06b5569-f527-4cf3-b415-397fb6877f3d",
   "metadata": {},
   "source": [
    "### Variable Description\n",
    "- `PassengerId`: unique id number to each passenger\n",
    "- `Survived`: passenger survive(1) or died(0)\n",
    "- `Pclass`: passenger class\n",
    "- `Name`: name\n",
    "- `Sex`: gender of passenger\n",
    "- `Age`: age of passenger\n",
    "- `SibSp`: number of siblings/spouses\n",
    "- `Parch`: number of parents/children\n",
    "- `Ticket`: ticket number\n",
    "- `Fare`: amount of money spent on ticket\n",
    "- `Cabin`: cabin category\n",
    "- `Embarked`: port where passenger embarked (C = Cherbourg, Q = Queenstown, S = Southampton)"
   ]
  },
  {
   "cell_type": "markdown",
   "id": "a49aaa19-7364-4811-b992-ce81f499acef",
   "metadata": {},
   "source": [
    "### Задание 1\n",
    "1. Загрузить данные в виде датафрейма в переменную `titanic`\n",
    "2. Выведите информацию и статистику по датафрейму."
   ]
  },
  {
   "cell_type": "code",
   "execution_count": null,
   "id": "9f7dee98-f0e7-4ce4-8439-d4b5c39c0ccd",
   "metadata": {},
   "outputs": [],
   "source": []
  },
  {
   "cell_type": "markdown",
   "id": "15890614-dc83-4626-97ec-304555b1830a",
   "metadata": {},
   "source": [
    "### Задание 2\n",
    "1. Выведите часть датафрейма, в строках которого пропущено хотябы одно значение.\n",
    "2. Выведите его размерность."
   ]
  },
  {
   "cell_type": "code",
   "execution_count": null,
   "id": "56c42195-4396-48b0-a9bc-4023990f99a6",
   "metadata": {},
   "outputs": [],
   "source": []
  },
  {
   "cell_type": "markdown",
   "id": "d8536aec-716a-4f86-a10c-cad245f538c9",
   "metadata": {},
   "source": [
    "### Задание 3\n",
    "Найдите и выведите имена столбцов, в которых пропущенных данных более 50%"
   ]
  },
  {
   "cell_type": "code",
   "execution_count": null,
   "id": "32511fcc-de60-4ae2-95af-2f3aa9130f0d",
   "metadata": {},
   "outputs": [],
   "source": []
  },
  {
   "cell_type": "markdown",
   "id": "11b4bc24-2a7c-49c4-8df5-ee33944b2a7d",
   "metadata": {},
   "source": [
    "### Задание 4\n",
    "Постройте сводную таблицу количества выживщих в зависимости от пола (строки) и порта посадки (колонки). Название порта должно быть полным, для переименования кода порта использовать словарь. "
   ]
  },
  {
   "cell_type": "code",
   "execution_count": null,
   "id": "27b178a4-36cb-43ea-81d5-8657db6468f8",
   "metadata": {},
   "outputs": [],
   "source": []
  },
  {
   "cell_type": "markdown",
   "id": "c9ad0cce-4dc1-4c73-9746-e58edb5cf588",
   "metadata": {},
   "source": [
    "### Задание 5\n",
    "\n",
    "Найдите вероятность выживания пассажира в зависимости от класса размещения пассажира, упорядочено по классу пассажира. Результат в виде датафрейма."
   ]
  },
  {
   "cell_type": "code",
   "execution_count": null,
   "id": "763af024-000b-450d-a021-4ae097d3b679",
   "metadata": {},
   "outputs": [],
   "source": []
  },
  {
   "cell_type": "markdown",
   "id": "913ffa64-e706-44e4-a706-f4916d38170f",
   "metadata": {},
   "source": [
    "### Задание 6\n",
    "\n",
    "Постройте `sns.violinplot` для визуализации расходов на билеты в зависимости от порта отправления (на одном графике)."
   ]
  },
  {
   "cell_type": "code",
   "execution_count": null,
   "id": "e0825dab-546c-4298-9fb0-0ec9afeb0955",
   "metadata": {},
   "outputs": [],
   "source": []
  },
  {
   "cell_type": "markdown",
   "id": "a90375b6-6f7f-4d97-aa1a-65a229d2bf06",
   "metadata": {},
   "source": [
    "### Задание 7\n",
    "\n",
    "Постройте `matplotlib.boxplot` для визуализации расходов на билеты в зависимости от класса пассажира (на одном графике). Ограничить диапазон графика от 0 до 200$."
   ]
  },
  {
   "cell_type": "code",
   "execution_count": null,
   "id": "68d581d0-a518-47f9-8c5c-1d8582049601",
   "metadata": {},
   "outputs": [],
   "source": []
  },
  {
   "cell_type": "markdown",
   "id": "3546209b-7738-4678-bba9-62af11b00fea",
   "metadata": {},
   "source": [
    "### Задание 8\n",
    "\n",
    "Визуализируйте корреляционную матрицу для столбцов `[\"Survived\", \"Age\", \"Fare\", \"SibSp\", \"Parch\" ]`. Максимально корректно для восприятия."
   ]
  },
  {
   "cell_type": "code",
   "execution_count": null,
   "id": "0ac68e63-3c67-4eab-bae4-4d2dff5d5b17",
   "metadata": {},
   "outputs": [],
   "source": []
  },
  {
   "cell_type": "markdown",
   "id": "eedf5e3d-8f08-43be-b21d-2ac937cbdd6d",
   "metadata": {},
   "source": [
    "### Задание 9-10\n",
    "Используя линии (отрезки) визуализтровать вероятность выживания в зависимости от пола (на соседних графиках) пассажиров различных классов в зависимости от диапазона возраста (диапазон от 0 до 90 с шагом в 10 лет, левая граница не включена, правая включена). \n"
   ]
  },
  {
   "cell_type": "code",
   "execution_count": null,
   "id": "8e7641f8-6cf4-4dbc-971c-34300853c06e",
   "metadata": {},
   "outputs": [],
   "source": []
  }
 ],
 "metadata": {
  "kernelspec": {
   "display_name": "Python 3 (ipykernel)",
   "language": "python",
   "name": "python3"
  },
  "language_info": {
   "codemirror_mode": {
    "name": "ipython",
    "version": 3
   },
   "file_extension": ".py",
   "mimetype": "text/x-python",
   "name": "python",
   "nbconvert_exporter": "python",
   "pygments_lexer": "ipython3",
   "version": "3.11.8"
  }
 },
 "nbformat": 4,
 "nbformat_minor": 5
}
