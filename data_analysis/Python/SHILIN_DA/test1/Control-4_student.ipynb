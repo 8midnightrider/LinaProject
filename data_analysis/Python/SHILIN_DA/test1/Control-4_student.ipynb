{
 "cells": [
  {
   "cell_type": "code",
   "execution_count": 1,
   "metadata": {
    "tags": []
   },
   "outputs": [],
   "source": [
    "# Впишите библиотеки\n",
    "\n",
    "\n",
    "\n",
    "\n",
    "\n"
   ]
  },
  {
   "cell_type": "markdown",
   "metadata": {},
   "source": [
    "### Задание 1\n",
    "**задание - 1 балл**</br>\n",
    "загрузить данные, индекс переменная вида дата/время"
   ]
  },
  {
   "cell_type": "code",
   "execution_count": null,
   "metadata": {
    "tags": []
   },
   "outputs": [],
   "source": []
  },
  {
   "cell_type": "markdown",
   "metadata": {},
   "source": [
    "### Задание 2\n",
    "**задание - 1 балл**</br>\n",
    "построить сводную таблицу по клоличеству правонарушений (строки - расса `driver_race`, колонки - пол `driver_gender`) "
   ]
  },
  {
   "cell_type": "code",
   "execution_count": null,
   "metadata": {
    "tags": []
   },
   "outputs": [],
   "source": []
  },
  {
   "cell_type": "markdown",
   "metadata": {},
   "source": [
    "### Задание 3\n",
    "**задание - 1 балл**</br>\n",
    "построить сводную таблицу по долям правонарушений в зависимости от рассы `driver_race`(1 - для каждой рассы) и пола внутри рассы `driver_gender` (например, белые мужчины 0.8, белые женщины 0.2), в таблице строки - расса,  колонки - пол. Внимание! сумма по строке должна быть равна 1. "
   ]
  },
  {
   "cell_type": "code",
   "execution_count": null,
   "metadata": {
    "tags": []
   },
   "outputs": [],
   "source": []
  },
  {
   "cell_type": "markdown",
   "metadata": {
    "tags": []
   },
   "source": [
    "### Задание 4\n",
    "**задание - 1 балл**</br>\n",
    "найти ежемесячное среднее количество преступлений. Результат в виде Series: индексы дата/время."
   ]
  },
  {
   "cell_type": "code",
   "execution_count": null,
   "metadata": {
    "tags": []
   },
   "outputs": [],
   "source": []
  },
  {
   "cell_type": "markdown",
   "metadata": {
    "tags": []
   },
   "source": [
    "### Задание 5\n",
    "**задание - 1 балл**</br>\n",
    "найти ежедневное количество водителей с опьянением `DUI` (см. столбец: `violation` ) и на этой основе построить столбцовую диаграмму агрегировав среднее количество водителей с опьянением по дням недели. Дни недели подписать русскими сокращенными названиями."
   ]
  },
  {
   "cell_type": "code",
   "execution_count": null,
   "metadata": {
    "tags": []
   },
   "outputs": [],
   "source": []
  },
  {
   "cell_type": "markdown",
   "metadata": {},
   "source": [
    "### Задание 6\n",
    "**задание - 2 балла**</br>\n",
    "Самостоятельно написать код который опровергает или подтверждает внутригодовую цикличность нарушений по оборудованию автомобиля `Equipment` (см. столбец: `violation` ) для всего диапазона данных."
   ]
  },
  {
   "cell_type": "code",
   "execution_count": null,
   "metadata": {
    "tags": []
   },
   "outputs": [],
   "source": []
  },
  {
   "cell_type": "markdown",
   "metadata": {},
   "source": [
    "### Задание 7\n",
    "**задание - 2 балла**</br>\n",
    "Найдите \"самый пьяный час\", когда по пятницам-воскресеньям задерживают в среднем максимальное число водителей с опьянением `DUI` (см. столбец: `violation`). Напишите код, сопроводите его визуализацией и выведите самый пьяный час и среднее количество задержанных."
   ]
  },
  {
   "cell_type": "code",
   "execution_count": null,
   "metadata": {
    "tags": []
   },
   "outputs": [],
   "source": []
  },
  {
   "cell_type": "markdown",
   "metadata": {},
   "source": [
    "### Задание 8\n",
    "**задание - 1 балла**</br>\n",
    "Существует ли округа со значительным количеством правонарушениями по рассовому признаку? Напишите код, подтвердите или опровергните это утверждение."
   ]
  },
  {
   "cell_type": "code",
   "execution_count": null,
   "metadata": {},
   "outputs": [],
   "source": []
  }
 ],
 "metadata": {
  "kernelspec": {
   "display_name": "Python 3 (ipykernel)",
   "language": "python",
   "name": "python3"
  },
  "language_info": {
   "codemirror_mode": {
    "name": "ipython",
    "version": 3
   },
   "file_extension": ".py",
   "mimetype": "text/x-python",
   "name": "python",
   "nbconvert_exporter": "python",
   "pygments_lexer": "ipython3",
   "version": "3.11.8"
  }
 },
 "nbformat": 4,
 "nbformat_minor": 4
}
